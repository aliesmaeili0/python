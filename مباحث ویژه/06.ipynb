{
 "cells": [
  {
   "cell_type": "code",
   "execution_count": null,
   "metadata": {},
   "outputs": [],
   "source": [
    "def q(n):\n",
    "    while(n>0):\n",
    "        print(n)\n",
    "        n=n-1\n",
    "        break\n",
    "    print(\"stop\")\n",
    "\n",
    "q(int(input(\"number \")))"
   ]
  }
 ],
 "metadata": {
  "kernelspec": {
   "display_name": "Python 3",
   "language": "python",
   "name": "python3"
  },
  "language_info": {
   "name": "python",
   "version": "3.12.0"
  },
  "orig_nbformat": 4
 },
 "nbformat": 4,
 "nbformat_minor": 2
}
